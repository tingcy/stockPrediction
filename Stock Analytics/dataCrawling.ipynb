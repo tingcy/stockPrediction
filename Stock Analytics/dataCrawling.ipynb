{
 "cells": [
  {
   "cell_type": "markdown",
   "id": "d182bf3c-f63d-4ff7-bb5c-6ee823a55a08",
   "metadata": {},
   "source": [
    "# Yahoo Finance"
   ]
  },
  {
   "cell_type": "code",
   "execution_count": 24,
   "id": "dd26bbd8-9e5e-4e5f-b524-f162033f7046",
   "metadata": {},
   "outputs": [
    {
     "name": "stderr",
     "output_type": "stream",
     "text": [
      "[*********************100%***********************]  1 of 1 completed\n"
     ]
    }
   ],
   "source": [
    "import yfinance as yf\n",
    "import pandas as pd\n",
    "import numpy as np\n",
    "\n",
    "ticker = '0192.KL'\n",
    "data = yf.download(ticker, period='1y', interval='1d')\n",
    "data.reset_index(inplace=True)\n",
    "data.to_csv(ticker+\".csv\", index=False)"
   ]
  },
  {
   "cell_type": "code",
   "execution_count": 16,
   "id": "a2cf9637-58a1-4b22-877b-54613be9ecd4",
   "metadata": {},
   "outputs": [],
   "source": [
    "import requests\n",
    "import pandas as pd\n",
    "\n",
    "url = f'https://eodhd.com/api/eod/5311.KLSE?period=d&api_token=66da6b8ba05949.90297268&fmt=json'\n",
    "data = requests.get(url).json()\n",
    "df = pd.DataFrame(data)\n",
    "df.to_csv(\"CEB.csv\", index=False)"
   ]
  }
 ],
 "metadata": {
  "kernelspec": {
   "display_name": "Python 3 (ipykernel)",
   "language": "python",
   "name": "python3"
  },
  "language_info": {
   "codemirror_mode": {
    "name": "ipython",
    "version": 3
   },
   "file_extension": ".py",
   "mimetype": "text/x-python",
   "name": "python",
   "nbconvert_exporter": "python",
   "pygments_lexer": "ipython3",
   "version": "3.11.5"
  }
 },
 "nbformat": 4,
 "nbformat_minor": 5
}
