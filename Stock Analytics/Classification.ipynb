{
 "cells": [
  {
   "cell_type": "code",
   "execution_count": 25,
   "metadata": {},
   "outputs": [],
   "source": [
    "# Import Packages\n",
    "import numpy as np\n",
    "import pandas as pd\n",
    "import warnings\n",
    "from sklearn.model_selection import train_test_split, GridSearchCV\n",
    "from sklearn.linear_model import LogisticRegression\n",
    "from sklearn.ensemble import RandomForestClassifier\n",
    "from xgboost import XGBClassifier\n",
    "from boruta import BorutaPy\n",
    "from sklearn.naive_bayes import GaussianNB\n",
    "from sklearn.metrics import accuracy_score, confusion_matrix, classification_report\n",
    "\n",
    "# Suppress warnings\n",
    "warnings.filterwarnings('ignore')\n",
    "\n",
    "df = pd.read_csv(\"data.csv\")\n",
    "\n",
    "def updown_nextDay(row):\n",
    "    if row['diff_Close_next_1day'] > 0:\n",
    "        return 1        \n",
    "    else:\n",
    "        return 0\n",
    "\n",
    "# Apply the function to each row\n",
    "df['nextDay_updown'] = df.apply(updown_nextDay, axis=1)\n",
    "df.drop(columns=['Close','Close_next_1day','diff_Close_next_1day'],inplace=True)\n",
    "\n"
   ]
  },
  {
   "cell_type": "markdown",
   "metadata": {},
   "source": [
    "### Feature Selection"
   ]
  },
  {
   "cell_type": "code",
   "execution_count": 26,
   "metadata": {},
   "outputs": [
    {
     "name": "stdout",
     "output_type": "stream",
     "text": [
      "Iteration: \t1 / 200\n",
      "Confirmed: \t0\n",
      "Tentative: \t30\n",
      "Rejected: \t0\n",
      "Iteration: \t2 / 200\n",
      "Confirmed: \t0\n",
      "Tentative: \t30\n",
      "Rejected: \t0\n",
      "Iteration: \t3 / 200\n",
      "Confirmed: \t0\n",
      "Tentative: \t30\n",
      "Rejected: \t0\n",
      "Iteration: \t4 / 200\n",
      "Confirmed: \t0\n",
      "Tentative: \t30\n",
      "Rejected: \t0\n",
      "Iteration: \t5 / 200\n",
      "Confirmed: \t0\n",
      "Tentative: \t30\n",
      "Rejected: \t0\n",
      "Iteration: \t6 / 200\n",
      "Confirmed: \t0\n",
      "Tentative: \t30\n",
      "Rejected: \t0\n",
      "Iteration: \t7 / 200\n",
      "Confirmed: \t0\n",
      "Tentative: \t30\n",
      "Rejected: \t0\n",
      "Iteration: \t8 / 200\n",
      "Confirmed: \t0\n",
      "Tentative: \t0\n",
      "Rejected: \t30\n",
      "\n",
      "\n",
      "BorutaPy finished running.\n",
      "\n",
      "Iteration: \t9 / 200\n",
      "Confirmed: \t0\n",
      "Tentative: \t0\n",
      "Rejected: \t30\n"
     ]
    }
   ],
   "source": [
    "def boruta_top_10_features(df, target_column, max_iter=200):\n",
    "    # Separate features and target\n",
    "    X = df.drop(target_column, axis=1).values\n",
    "    y = df[target_column].values\n",
    "    \n",
    "    # Define a random forest classifier\n",
    "    rf = RandomForestClassifier(n_jobs=-1, class_weight='balanced', max_depth=5, random_state=42)\n",
    "    \n",
    "    # Initialize Boruta\n",
    "    boruta_selector = BorutaPy(rf, n_estimators='auto', verbose=2, random_state=42, max_iter=max_iter)\n",
    "    \n",
    "    # Fit Boruta\n",
    "    boruta_selector.fit(X, y)\n",
    "    \n",
    "    # Get feature importance ranking\n",
    "    ranking = boruta_selector.ranking_\n",
    "    \n",
    "    # Get feature names\n",
    "    feature_names = df.drop(target_column, axis=1).columns\n",
    "    \n",
    "    # Create a DataFrame with feature names and their rankings\n",
    "    feature_ranking_df = pd.DataFrame({\n",
    "        'Feature': feature_names,\n",
    "        'Ranking': ranking\n",
    "    })\n",
    "    \n",
    "    # Sort the features by ranking (lower is better)\n",
    "    feature_ranking_df = feature_ranking_df.sort_values(by='Ranking').reset_index(drop=True)\n",
    "    \n",
    "    # Select top 10 features\n",
    "    top_10_features = feature_ranking_df.head(10)['Feature'].values\n",
    "    \n",
    "    # Return a DataFrame with the top 10 features\n",
    "    top_10_features_df = df[top_10_features]\n",
    "    top_10_features_df[target_column] = df[target_column]\n",
    "\n",
    "    return top_10_features_df\n",
    "\n",
    "df_FS = boruta_top_10_features(df,'nextDay_updown')\n",
    "\n",
    "X = df_FS.drop('nextDay_updown', axis=1)\n",
    "y = df_FS['nextDay_updown']\n"
   ]
  },
  {
   "cell_type": "markdown",
   "metadata": {},
   "source": [
    "### Logistic Regression"
   ]
  },
  {
   "cell_type": "code",
   "execution_count": 27,
   "metadata": {},
   "outputs": [
    {
     "name": "stdout",
     "output_type": "stream",
     "text": [
      "0.532258064516129\n"
     ]
    }
   ],
   "source": [
    "acc_max = 0\n",
    "\n",
    "for i in range(1000):\n",
    "\n",
    "    X_train, X_test, y_train, y_test = train_test_split(X, y, test_size=0.30)\n",
    "\n",
    "    # Initialize the logistic regression model\n",
    "    log_reg = LogisticRegression(solver='liblinear')  # Use 'liblinear' solver for small datasets\n",
    "\n",
    "    \n",
    "    log_reg.fit(X_train, y_train)\n",
    "\n",
    "    # Predict on the test set\n",
    "    y_pred = log_reg.predict(X_test)\n",
    "\n",
    "    # Evaluate the model\n",
    "    accuracy = accuracy_score(y_test, y_pred)\n",
    "    \n",
    "    if accuracy > acc_max:\n",
    "        acc_max = accuracy\n",
    "\n",
    "print(accuracy)\n",
    "    "
   ]
  },
  {
   "cell_type": "markdown",
   "metadata": {},
   "source": [
    "### Naive Bayes"
   ]
  },
  {
   "cell_type": "code",
   "execution_count": 28,
   "metadata": {},
   "outputs": [
    {
     "name": "stdout",
     "output_type": "stream",
     "text": [
      "0.6190476190476191\n"
     ]
    }
   ],
   "source": [
    "acc_max = 0\n",
    "\n",
    "for i in range(100):\n",
    "    # Split the data into training and testing sets\n",
    "    X_train, X_test, y_train, y_test = train_test_split(X, y, test_size=0.2)\n",
    "\n",
    "    # Initialize the Naive Bayes\n",
    "    nb_classifier = GaussianNB()\n",
    "\n",
    "    # Fit GridSearchCV to the training data\n",
    "    nb_classifier.fit(X_train, y_train)\n",
    "\n",
    "    # Make predictions on the test set\n",
    "    y_pred = nb_classifier.predict(X_test)\n",
    "\n",
    "    # Evaluate the model\n",
    "    accuracy = accuracy_score(y_test, y_pred) \n",
    "\n",
    "    if accuracy > acc_max:\n",
    "        acc_max = accuracy\n",
    "\n",
    "print(accuracy)"
   ]
  },
  {
   "cell_type": "markdown",
   "metadata": {},
   "source": [
    "### Random Forest"
   ]
  },
  {
   "cell_type": "code",
   "execution_count": 29,
   "metadata": {},
   "outputs": [
    {
     "name": "stdout",
     "output_type": "stream",
     "text": [
      "0.6904761904761905\n"
     ]
    }
   ],
   "source": [
    "acc_max = 0\n",
    "\n",
    "for i in range(100):\n",
    "    # Split the data into training and testing sets\n",
    "    X_train, X_test, y_train, y_test = train_test_split(X, y, test_size=0.2)\n",
    "\n",
    "    # Initialize the Random Forest Classifier\n",
    "    rf_classifier = RandomForestClassifier()\n",
    "\n",
    "    # Fit GridSearchCV to the training data\n",
    "    rf_classifier.fit(X_train, y_train)\n",
    "\n",
    "    # Make predictions on the test set\n",
    "    y_pred = rf_classifier.predict(X_test)\n",
    "\n",
    "    # Evaluate the model\n",
    "    accuracy = accuracy_score(y_test, y_pred) \n",
    "\n",
    "    if accuracy > acc_max:\n",
    "        acc_max = accuracy\n",
    "\n",
    "print(accuracy)"
   ]
  },
  {
   "cell_type": "code",
   "execution_count": 30,
   "metadata": {},
   "outputs": [
    {
     "name": "stdout",
     "output_type": "stream",
     "text": [
      "0.5952380952380952\n"
     ]
    }
   ],
   "source": [
    "acc_max = 0\n",
    "\n",
    "for i in range(100):\n",
    "\n",
    "    # Split the data into training and testing sets\n",
    "    X_train, X_test, y_train, y_test = train_test_split(X, y, test_size=0.2)\n",
    "\n",
    "    # Initialize the XGBoost Classifier\n",
    "    xgb_classifier = XGBClassifier()\n",
    "\n",
    "    # Fit GridSearchCV to the training data\n",
    "    xgb_classifier.fit(X_train, y_train)\n",
    "\n",
    "    # Make predictions on the test set\n",
    "    y_pred = xgb_classifier.predict(X_test)\n",
    "\n",
    "    # Evaluate the model\n",
    "    accuracy = accuracy_score(y_test, y_pred)\n",
    "    \n",
    "    if accuracy > acc_max:\n",
    "        acc_max = accuracy\n",
    "\n",
    "print(accuracy)"
   ]
  },
  {
   "cell_type": "code",
   "execution_count": null,
   "metadata": {},
   "outputs": [],
   "source": []
  }
 ],
 "metadata": {
  "kernelspec": {
   "display_name": "Python 3",
   "language": "python",
   "name": "python3"
  },
  "language_info": {
   "codemirror_mode": {
    "name": "ipython",
    "version": 3
   },
   "file_extension": ".py",
   "mimetype": "text/x-python",
   "name": "python",
   "nbconvert_exporter": "python",
   "pygments_lexer": "ipython3",
   "version": "3.12.1"
  }
 },
 "nbformat": 4,
 "nbformat_minor": 2
}
