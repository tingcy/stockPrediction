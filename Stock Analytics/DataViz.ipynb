{
 "cells": [
  {
   "cell_type": "code",
   "execution_count": null,
   "metadata": {},
   "outputs": [],
   "source": [
    "import matplotlib.pyplot as plt\n",
    "\n",
    "# # Plot\n",
    "# plt.scatter(y_test, pred, color='black', label='Predictions')\n",
    "# # Add a 45-degree line (y = x)\n",
    "# min_val = min(min(y_test), min(pred))\n",
    "# max_val = max(max(y_test), max(pred))\n",
    "# plt.plot([min_val, max_val], [min_val, max_val], color='green', linestyle='-', linewidth=1)\n",
    "\n",
    "# # Customize the plot\n",
    "# plt.title('Real Values vs Predicted Values')\n",
    "# plt.xlabel('Real Values')\n",
    "# plt.ylabel('Predicted Values')\n",
    "# plt.legend(loc='upper left')\n"
   ]
  }
 ],
 "metadata": {
  "language_info": {
   "name": "python"
  }
 },
 "nbformat": 4,
 "nbformat_minor": 2
}
